{
 "cells": [
  {
   "cell_type": "markdown",
   "id": "561cf8f9-2b59-4f0b-8d7e-94238802f61b",
   "metadata": {},
   "source": [
    "Ödev-1"
   ]
  },
  {
   "cell_type": "code",
   "execution_count": 3,
   "id": "f6f81d65-4bdf-4842-b293-2afb5cf6283d",
   "metadata": {},
   "outputs": [
    {
     "name": "stdout",
     "output_type": "stream",
     "text": [
      "<class 'int'>\n"
     ]
    }
   ],
   "source": [
    "x=6\n",
    "print(type(6))"
   ]
  },
  {
   "cell_type": "code",
   "execution_count": 21,
   "id": "1a26f78f-b826-4e68-9eb3-71e5506a5a49",
   "metadata": {},
   "outputs": [
    {
     "data": {
      "text/plain": [
       "6.0"
      ]
     },
     "execution_count": 21,
     "metadata": {},
     "output_type": "execute_result"
    }
   ],
   "source": [
    "y=float(x)\n",
    "y"
   ]
  },
  {
   "cell_type": "code",
   "execution_count": 9,
   "id": "e2973897-8994-4097-a58e-e011773b49b5",
   "metadata": {},
   "outputs": [],
   "source": [
    "z=8.2\n",
    "print(type(8.2))"
   ]
  },
  {
   "cell_type": "code",
   "execution_count": 14,
   "id": "36307d62-44aa-40a9-8c19-4a1f54f5fede",
   "metadata": {},
   "outputs": [
    {
     "data": {
      "text/plain": [
       "'8.2'"
      ]
     },
     "execution_count": 14,
     "metadata": {},
     "output_type": "execute_result"
    }
   ],
   "source": [
    "t=str(z)\n",
    "t"
   ]
  },
  {
   "cell_type": "code",
   "execution_count": 18,
   "id": "243a8554-e12c-46cf-b957-49e75fdad983",
   "metadata": {},
   "outputs": [],
   "source": [
    "a='Hi Kod'"
   ]
  },
  {
   "cell_type": "code",
   "execution_count": 20,
   "id": "14483572-5923-4b34-b999-a49408b7483b",
   "metadata": {},
   "outputs": [
    {
     "data": {
      "text/plain": [
       "True"
      ]
     },
     "execution_count": 20,
     "metadata": {},
     "output_type": "execute_result"
    }
   ],
   "source": [
    "b=bool(a)\n",
    "b"
   ]
  },
  {
   "cell_type": "markdown",
   "id": "7a3e01b8-6bda-4a2b-98ef-b65ad6f2c1e8",
   "metadata": {},
   "source": [
    "Ödev-2\n"
   ]
  },
  {
   "cell_type": "code",
   "execution_count": 24,
   "id": "dd3f8416-c149-4ccc-a1f9-8e4704172ad3",
   "metadata": {},
   "outputs": [],
   "source": [
    "arda=19\n",
    "ahmet=25\n",
    "ali=30"
   ]
  },
  {
   "cell_type": "code",
   "execution_count": 26,
   "id": "64208219-469d-4b7a-8cd5-013ca3489454",
   "metadata": {},
   "outputs": [
    {
     "data": {
      "text/plain": [
       "False"
      ]
     },
     "execution_count": 26,
     "metadata": {},
     "output_type": "execute_result"
    }
   ],
   "source": [
    "arda == ahmet"
   ]
  },
  {
   "cell_type": "code",
   "execution_count": 27,
   "id": "a159b85d-6d9c-4465-b387-96ac79dc2803",
   "metadata": {},
   "outputs": [
    {
     "data": {
      "text/plain": [
       "True"
      ]
     },
     "execution_count": 27,
     "metadata": {},
     "output_type": "execute_result"
    }
   ],
   "source": [
    "ali != arda"
   ]
  },
  {
   "cell_type": "code",
   "execution_count": 36,
   "id": "5699e38d-6db5-40ec-b354-a8dd8e742c00",
   "metadata": {},
   "outputs": [
    {
     "data": {
      "text/plain": [
       "True"
      ]
     },
     "execution_count": 36,
     "metadata": {},
     "output_type": "execute_result"
    }
   ],
   "source": [
    "arda > 15 and arda <= ahmet"
   ]
  },
  {
   "cell_type": "code",
   "execution_count": 41,
   "id": "61560c66-363e-4fa6-a188-b5e033185eb6",
   "metadata": {},
   "outputs": [
    {
     "data": {
      "text/plain": [
       "True"
      ]
     },
     "execution_count": 41,
     "metadata": {},
     "output_type": "execute_result"
    }
   ],
   "source": [
    "ali < 35 or ali < ahmet"
   ]
  },
  {
   "cell_type": "code",
   "execution_count": 44,
   "id": "fa4ea249-c29f-44bd-9a0d-c50f8598bf76",
   "metadata": {},
   "outputs": [
    {
     "data": {
      "text/plain": [
       "True"
      ]
     },
     "execution_count": 44,
     "metadata": {},
     "output_type": "execute_result"
    }
   ],
   "source": [
    "not(ahmet > arda and ahmet > ali)"
   ]
  },
  {
   "cell_type": "markdown",
   "id": "c05c7dbf-0a06-415a-bbe2-e8d1ed6d91ab",
   "metadata": {},
   "source": [
    "Ödev-3"
   ]
  },
  {
   "cell_type": "code",
   "execution_count": 1,
   "id": "10bc79c3-46ba-4750-97b9-7161f8d2b42f",
   "metadata": {},
   "outputs": [],
   "source": [
    "x=6 \n",
    "y=5"
   ]
  },
  {
   "cell_type": "code",
   "execution_count": 2,
   "id": "b6b0abb4-7603-42b3-b31f-c6b2897c890b",
   "metadata": {},
   "outputs": [
    {
     "data": {
      "text/plain": [
       "11"
      ]
     },
     "execution_count": 2,
     "metadata": {},
     "output_type": "execute_result"
    }
   ],
   "source": [
    "x+y"
   ]
  },
  {
   "cell_type": "code",
   "execution_count": 3,
   "id": "1a54056f-f61b-4d1a-b759-5d47f651282e",
   "metadata": {},
   "outputs": [
    {
     "data": {
      "text/plain": [
       "30"
      ]
     },
     "execution_count": 3,
     "metadata": {},
     "output_type": "execute_result"
    }
   ],
   "source": [
    "x*y"
   ]
  },
  {
   "cell_type": "code",
   "execution_count": 4,
   "id": "d8c72d8a-c2b4-4045-8f6b-805efc57ade3",
   "metadata": {},
   "outputs": [
    {
     "data": {
      "text/plain": [
       "1.2"
      ]
     },
     "execution_count": 4,
     "metadata": {},
     "output_type": "execute_result"
    }
   ],
   "source": [
    "x/y"
   ]
  },
  {
   "cell_type": "code",
   "execution_count": 5,
   "id": "ec68f910-8384-4b62-b871-fdd1d0028a05",
   "metadata": {},
   "outputs": [
    {
     "data": {
      "text/plain": [
       "1"
      ]
     },
     "execution_count": 5,
     "metadata": {},
     "output_type": "execute_result"
    }
   ],
   "source": [
    "x-y"
   ]
  },
  {
   "cell_type": "markdown",
   "id": "35e39ddf-c84c-4175-baa4-5ca6a9ffde17",
   "metadata": {},
   "source": [
    "Ödev-4"
   ]
  },
  {
   "cell_type": "code",
   "execution_count": 2,
   "id": "9552bf34-baf5-44a5-a46b-6e94b765ba1e",
   "metadata": {},
   "outputs": [
    {
     "name": "stdin",
     "output_type": "stream",
     "text": [
      "Adınız: \"Zülal\"\n"
     ]
    }
   ],
   "source": [
    "isim = input(\"Adınız:\")"
   ]
  },
  {
   "cell_type": "code",
   "execution_count": 1,
   "id": "b8f966da-e984-40e4-bde3-7138ee56a822",
   "metadata": {},
   "outputs": [
    {
     "name": "stdin",
     "output_type": "stream",
     "text": [
      "Yas: \"17\"\n"
     ]
    }
   ],
   "source": [
    "yas = input(\"Yas:\")"
   ]
  },
  {
   "cell_type": "code",
   "execution_count": 1,
   "id": "e99b20f5-827e-4908-9381-a45cbbf9cda5",
   "metadata": {},
   "outputs": [
    {
     "name": "stdin",
     "output_type": "stream",
     "text": [
      "Sehir: \"Kahramanmaras\"\n"
     ]
    }
   ],
   "source": [
    "sehir = input(\"Sehir:\")"
   ]
  },
  {
   "cell_type": "code",
   "execution_count": 1,
   "id": "ab462d4b-c117-4d79-87eb-2a010924e68c",
   "metadata": {},
   "outputs": [
    {
     "name": "stdin",
     "output_type": "stream",
     "text": [
      "Meslek: \"Öğrenci\"\n"
     ]
    }
   ],
   "source": [
    "meslek = input(\"Meslek:\")"
   ]
  },
  {
   "cell_type": "markdown",
   "id": "bce4312c-7043-4e7d-af50-9d475daf6ec7",
   "metadata": {},
   "source": [
    "Ödev-5\n"
   ]
  },
  {
   "cell_type": "code",
   "execution_count": 4,
   "id": "52362cc3-0357-423e-8867-7f980c191516",
   "metadata": {},
   "outputs": [
    {
     "data": {
      "text/plain": [
       "'Hi-Kod Veri Bilimi Atöyesi'"
      ]
     },
     "execution_count": 4,
     "metadata": {},
     "output_type": "execute_result"
    }
   ],
   "source": [
    "z = \"Hi-Kod Veri Bilimi Atöyesi\" \n",
    "z"
   ]
  },
  {
   "cell_type": "code",
   "execution_count": 5,
   "id": "c63c343f-5009-4c5a-b25d-207411e6a501",
   "metadata": {},
   "outputs": [
    {
     "data": {
      "text/plain": [
       "['Hi-Kod', 'Veri', 'Bilimi', 'Atöyesi']"
      ]
     },
     "execution_count": 5,
     "metadata": {},
     "output_type": "execute_result"
    }
   ],
   "source": [
    "z.split()"
   ]
  },
  {
   "cell_type": "code",
   "execution_count": 6,
   "id": "8db38daa-3bf9-4140-872f-22fa8b11bbbd",
   "metadata": {},
   "outputs": [
    {
     "data": {
      "text/plain": [
       "'HI-KOD VERI BILIMI ATÖYESI'"
      ]
     },
     "execution_count": 6,
     "metadata": {},
     "output_type": "execute_result"
    }
   ],
   "source": [
    "z.upper()"
   ]
  },
  {
   "cell_type": "code",
   "execution_count": 7,
   "id": "6acbbfb1-c2d2-4f42-95ea-b351406db9fd",
   "metadata": {},
   "outputs": [
    {
     "data": {
      "text/plain": [
       "'hi-kod veri bilimi atöyesi'"
      ]
     },
     "execution_count": 7,
     "metadata": {},
     "output_type": "execute_result"
    }
   ],
   "source": [
    "z.lower()"
   ]
  },
  {
   "cell_type": "code",
   "execution_count": 10,
   "id": "ddafd598-c364-42c8-8f4e-637d8894763a",
   "metadata": {},
   "outputs": [],
   "source": [
    "sayılar= \"0123456789\""
   ]
  },
  {
   "cell_type": "code",
   "execution_count": 17,
   "id": "d055c872-ef8e-4c28-97ee-ef2e5710ba02",
   "metadata": {},
   "outputs": [
    {
     "data": {
      "text/plain": [
       "'02468'"
      ]
     },
     "execution_count": 17,
     "metadata": {},
     "output_type": "execute_result"
    }
   ],
   "source": [
    "sayılar[0:9:2]"
   ]
  },
  {
   "cell_type": "code",
   "execution_count": 18,
   "id": "4b42de1d-d882-4170-b19c-15440dc869a0",
   "metadata": {},
   "outputs": [
    {
     "data": {
      "text/plain": [
       "'1357'"
      ]
     },
     "execution_count": 18,
     "metadata": {},
     "output_type": "execute_result"
    }
   ],
   "source": [
    "sayılar[1:9:2]"
   ]
  }
 ],
 "metadata": {
  "kernelspec": {
   "display_name": "Python 3 (ipykernel)",
   "language": "python",
   "name": "python3"
  },
  "language_info": {
   "codemirror_mode": {
    "name": "ipython",
    "version": 3
   },
   "file_extension": ".py",
   "mimetype": "text/x-python",
   "name": "python",
   "nbconvert_exporter": "python",
   "pygments_lexer": "ipython3",
   "version": "3.12.4"
  }
 },
 "nbformat": 4,
 "nbformat_minor": 5
}
